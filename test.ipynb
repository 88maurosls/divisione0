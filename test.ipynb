{
 "cells": [
  {
   "cell_type": "code",
   "execution_count": 21,
   "metadata": {},
   "outputs": [],
   "source": [
    "import pandas as pd\n",
    "import uuid\n",
    "import re\n",
    "from openpyxl import load_workbook\n",
    "from openpyxl.styles import Font\n",
    "import os\n",
    "\n",
    "def correct_csv(file_path, expected_fields):\n",
    "    with open(file_path, 'r', encoding='utf-8') as file:\n",
    "        lines = file.readlines()\n",
    "\n",
    "    corrected_lines = []\n",
    "    for line in lines:\n",
    "        fields = line.strip().split(',')\n",
    "        if len(fields) > expected_fields:\n",
    "            corrected_fields = fields[:expected_fields]\n",
    "        else:\n",
    "            corrected_fields = fields\n",
    "        corrected_lines.append(','.join(corrected_fields) + '\\n')\n",
    "\n",
    "    with open(file_path, 'w', encoding='utf-8') as file:\n",
    "        file.writelines(corrected_lines)\n",
    "\n",
    "def trasponi_valore_accanto_header1(file_path, expected_fields,UPLOAD_FOLDER):\n",
    "    try:\n",
    "        # Assicurati che il file CSV sia nel formato corretto\n",
    "        correct_csv(file_path, expected_fields)\n",
    "\n",
    "        with open(file_path, 'r', encoding='utf-8') as file:\n",
    "            lines = file.readlines()\n",
    "\n",
    "        values_next_to_header1 = []\n",
    "        data_rows = []\n",
    "        header_pattern = re.compile(r'^HEADER\\d+')\n",
    "        value_next_to_header1 = \"\"\n",
    "\n",
    "        for line in lines:\n",
    "            fields = line.strip().split(',')\n",
    "            if fields[0] == \"HEADER1\":\n",
    "                value_next_to_header1 = fields[1] if len(fields) > 1 else \"\"\n",
    "            if not header_pattern.match(fields[0]):\n",
    "                data_rows.append(fields)\n",
    "                values_next_to_header1.append(value_next_to_header1)\n",
    "\n",
    "        df_data = pd.DataFrame(data_rows)\n",
    "\n",
    "        # Gestione della colonna SKU\n",
    "        if len(df_data.columns) >= 3:\n",
    "            df_data['SKU'] = df_data.iloc[:, 1] + '-' + df_data.iloc[:, 2]\n",
    "\n",
    "        df_data['Value_Next_to_HEADER1'] = values_next_to_header1\n",
    "        df_data = df_data[['Value_Next_to_HEADER1', 'SKU'] + [col for col in df_data.columns if col not in ['SKU', 'Value_Next_to_HEADER1']]]\n",
    "\n",
    "        # Genera un nome di file unico per evitare sovrascritture\n",
    "        unique_filename = f\"output_{uuid.uuid4()}.xlsx\"\n",
    "        temp_output_file_path = os.path.join(UPLOAD_FOLDER, unique_filename)\n",
    "\n",
    "        headers = [\"Rif. Sped.\", \"SKU\", \"Collo\", \"Codice\", \"Colore\", \"Size\", \"UPC\", \"Made in\", \"Unità\", \"Confezione\", \"customer PO\", \"Riferimento Spedizione\"]\n",
    "        df_data.columns = headers[:len(df_data.columns)]\n",
    "\n",
    "        df_data[['Collo', 'UPC']] = df_data[['Collo', 'UPC']].apply(lambda x: '{:.0f}'.format(x) if isinstance(x, (int, float)) else x)\n",
    "\n",
    "        df_data.to_excel(temp_output_file_path, index=False, float_format=\"%.0f\")\n",
    "\n",
    "        # Applica lo stile alle celle dell'intestazione\n",
    "        wb = load_workbook(temp_output_file_path)\n",
    "        ws = wb.active\n",
    "        for col_num in range(1, len(headers) + 1):\n",
    "            cell = ws.cell(row=1, column=col_num)\n",
    "            cell.font = Font(bold=True)\n",
    "        wb.save(temp_output_file_path)\n",
    "\n",
    "        return temp_output_file_path\n",
    "\n",
    "    except Exception as e:\n",
    "        print(f\"Si è verificato un errore: {e}\")\n",
    "        return None"
   ]
  },
  {
   "cell_type": "code",
   "execution_count": 22,
   "metadata": {},
   "outputs": [
    {
     "data": {
      "text/plain": [
       "'downloads\\\\output_dbe2745f-f5a1-4c40-815f-60a11dbe66bc.xlsx'"
      ]
     },
     "execution_count": 22,
     "metadata": {},
     "output_type": "execute_result"
    }
   ],
   "source": [
    "path = \"uploads/Nike CSV-18e1a8c7be0.CSV\"\n",
    "UPLOAD_FOLDER = \"downloads\"\n",
    "\n",
    "trasponi_valore_accanto_header1(path,9,UPLOAD_FOLDER)"
   ]
  },
  {
   "cell_type": "code",
   "execution_count": null,
   "metadata": {},
   "outputs": [],
   "source": []
  }
 ],
 "metadata": {
  "kernelspec": {
   "display_name": "Python 3",
   "language": "python",
   "name": "python3"
  },
  "language_info": {
   "codemirror_mode": {
    "name": "ipython",
    "version": 3
   },
   "file_extension": ".py",
   "mimetype": "text/x-python",
   "name": "python",
   "nbconvert_exporter": "python",
   "pygments_lexer": "ipython3",
   "version": "3.10.11"
  }
 },
 "nbformat": 4,
 "nbformat_minor": 2
}
